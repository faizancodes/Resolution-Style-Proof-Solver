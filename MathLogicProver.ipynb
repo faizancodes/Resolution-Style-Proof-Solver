{
 "cells": [
  {
   "cell_type": "code",
   "execution_count": 286,
   "metadata": {},
   "outputs": [],
   "source": [
    "import re "
   ]
  },
  {
   "cell_type": "code",
   "execution_count": 287,
   "metadata": {},
   "outputs": [],
   "source": [
    "symbol_set = {'>' : '⊃',\n",
    "              '&' : '·',\n",
    "              '=' : '≡'}\n",
    "\n",
    "connectives = {'⊃', '·', '≡', 'v'}"
   ]
  },
  {
   "cell_type": "code",
   "execution_count": 288,
   "metadata": {},
   "outputs": [],
   "source": [
    "def drop_parentheses(s):\n",
    "    return s.replace('(', '').replace(')', '')\n",
    "\n",
    "\n",
    "def get_literals(premiss):\n",
    "    l = []\n",
    "    for i, c in enumerate(premiss):\n",
    "        if c.isalpha() and c not in connectives:\n",
    "            if premiss[i - 1] != '~':\n",
    "                l.append(c)\n",
    "            else:\n",
    "                l.append('~' + c)\n",
    "\n",
    "    return l[0], l[1]\n",
    "\n",
    "def equiv_to_cnf(fl, ll):\n",
    "    return f\"({fl} v ~{ll}) · ({ll} v ~{fl})\"\n",
    "\n",
    "\n",
    "def apply_deMorgan(premiss, mc):\n",
    "    \n",
    "    literals = get_literals(premiss)\n",
    "    literals = ['~' + l if '~' not in l else l.replace('~', '') for l in literals]\n",
    "    new_mc = 'v' if mc == '·' else '·'\n",
    "    \n",
    "    return f\"{literals[0]} {new_mc} {literals[1]}\""
   ]
  },
  {
   "cell_type": "code",
   "execution_count": 299,
   "metadata": {},
   "outputs": [],
   "source": [
    "def extract_clauses(p1, p2, mc):\n",
    "    \n",
    "    p1_mc = get_mc(p1)\n",
    "    p2_mc = get_mc(p2)\n",
    "    \n",
    "    clauses = []\n",
    "    \n",
    "    if mc == '·':\n",
    "        \n",
    "        if '~(' in p1:\n",
    "            p1 = apply_deMorgan(p1, p1_mc)\n",
    "        \n",
    "        if '~(' in p2:\n",
    "            p2 = apply_deMorgan(p2, p2_mc)\n",
    "            \n",
    "        if get_mc(p1) == '·':\n",
    "            clauses.extend(get_literals(p1))\n",
    "        else:\n",
    "            clauses.extend(p1)\n",
    "            \n",
    "        if get_mc(p2) == '·':\n",
    "            clauses.extend(get_literals(p2))\n",
    "        else:\n",
    "            clauses.append(p2)\n",
    "            \n",
    "        \n",
    "    # Distribution\n",
    "    if p1_mc == 'v':\n",
    "        if p2_mc == '·':\n",
    "            return drop_parentheses(p1) + ' v ' + get_literals(p2)[0], drop_parentheses(p1) + ' v ' + get_literals(p2)[1]\n",
    "\n",
    "    return clauses\n",
    "\n",
    "\n",
    "def get_mc(premiss, m=False):\n",
    "    \n",
    "    if m == True:\n",
    "        for i in range(premiss.index(')') + 1, premiss.rindex('(')):\n",
    "            if premiss[i] != ' ': return premiss[i]\n",
    "    else:\n",
    "        for c in premiss:\n",
    "            if c in connectives: return c\n",
    "           \n",
    "\n",
    "def convert_to_cnf(premiss, is_conclusion=False):\n",
    "    \n",
    "    for key in symbol_set:\n",
    "        premiss = premiss.replace(key, symbol_set[key])\n",
    "    \n",
    "    if premiss.count(')') == 2:\n",
    "       mc = get_mc(premiss, m=True)\n",
    "       \n",
    "       if mc == 'v' or mc == '·':\n",
    "            clauses = extract_clauses(premiss[0 : premiss.index(')') + 1], premiss[premiss.rindex('(') - 1 : ], mc)\n",
    "            return clauses\n",
    "            \n",
    "    elif '⊃' in premiss:\n",
    "        premiss = '~' + premiss\n",
    "        premiss = premiss.replace('⊃', 'v')        \n",
    "    \n",
    "    elif '≡' in premiss:\n",
    "        first_letter, last_letter = get_literals(premiss)\n",
    "        premiss = f\"({first_letter} · {last_letter}) v (~{first_letter} · ~{last_letter})\"\n",
    "        cnf = equiv_to_cnf(first_letter, last_letter)\n",
    "    \n",
    "    if is_conclusion == True:\n",
    "        negated_conclusion = f\"~({premiss})\"\n",
    "        if '~(' in negated_conclusion:\n",
    "            negated_conclusion = apply_deMorgan(negated_conclusion, get_mc(negated_conclusion))\n",
    "        \n",
    "        return negated_conclusion\n",
    "    \n",
    "    \n",
    "def construct_proof(clauses):\n",
    "    \n",
    "    for i, c in enumerate(clauses):\n",
    "        print(f\"{i + 1} {c}\")\n",
    "    "
   ]
  },
  {
   "cell_type": "code",
   "execution_count": 300,
   "metadata": {},
   "outputs": [
    {
     "name": "stdout",
     "output_type": "stream",
     "text": [
      "1 L v M v N\n",
      "2 L v M v O\n",
      "3 ~L\n",
      "4 O\n",
      "5 L v ~M\n",
      "6 L v ~N\n"
     ]
    }
   ],
   "source": [
    "argument = ['(L v M) · (N · O)',\n",
    "            '(~L · O) · ~(~L · M)',\n",
    "            '~L · N']\n",
    "\n",
    "clauses = []\n",
    "\n",
    "for i, p in enumerate(argument):\n",
    "    \n",
    "    cnf = convert_to_cnf(p, is_conclusion = (i==len(argument)-1)) \n",
    "    if type(cnf) == str: clauses.append(cnf)\n",
    "    else: clauses.extend(cnf)\n",
    "\n",
    "construct_proof(clauses)"
   ]
  },
  {
   "cell_type": "code",
   "execution_count": null,
   "metadata": {},
   "outputs": [],
   "source": []
  }
 ],
 "metadata": {
  "interpreter": {
   "hash": "9c18e09f9ef3848a3de4145e2df87798c7f40e03b46456bfaf2ae72eae84559a"
  },
  "kernelspec": {
   "display_name": "Python 3.9.9 64-bit (windows store)",
   "language": "python",
   "name": "python3"
  },
  "language_info": {
   "codemirror_mode": {
    "name": "ipython",
    "version": 3
   },
   "file_extension": ".py",
   "mimetype": "text/x-python",
   "name": "python",
   "nbconvert_exporter": "python",
   "pygments_lexer": "ipython3",
   "version": "3.10.0"
  },
  "orig_nbformat": 4
 },
 "nbformat": 4,
 "nbformat_minor": 2
}
